{
 "cells": [
  {
   "cell_type": "code",
   "execution_count": 1,
   "id": "d686a587",
   "metadata": {},
   "outputs": [],
   "source": [
    "import pandas as pd\n",
    "from sklearn.feature_extraction.text import TfidfVectorizer\n",
    "from sklearn.metrics.pairwise import cosine_similarity\n",
    "from sklearn.preprocessing import MinMaxScaler\n",
    "from scipy.sparse import hstack"
   ]
  },
  {
   "cell_type": "code",
   "execution_count": 4,
   "id": "c52170ec",
   "metadata": {},
   "outputs": [
    {
     "name": "stdout",
     "output_type": "stream",
     "text": [
      "Recommender system initialized successfully.\n"
     ]
    }
   ],
   "source": [
    "from flask import Flask, request, jsonify\n",
    "from flask_cors import CORS\n",
    "from recommender import get_recommendations"
   ]
  },
  {
   "cell_type": "code",
   "execution_count": 2,
   "id": "7f058fe8",
   "metadata": {},
   "outputs": [
    {
     "name": "stdout",
     "output_type": "stream",
     "text": [
      "Recommender system initialized successfully.\n"
     ]
    }
   ],
   "source": [
    "# --- Data Loading and Feature Preparation ---\n",
    "# This part is memory-efficient and can be done at startup.\n",
    "\n",
    "try:\n",
    "    df = pd.read_csv('songs_2000_2020_50k.csv')\n",
    "\n",
    "    # 1. Text feature (Genre)\n",
    "    tfidf = TfidfVectorizer(stop_words='english')\n",
    "    genre_matrix = tfidf.fit_transform(df['Genre'].fillna('')) # Handle potential missing genres\n",
    "\n",
    "    # 2. Numerical features\n",
    "    numerical_features = ['Popularity', 'Duration']\n",
    "    scaler = MinMaxScaler()\n",
    "    # Handle potential missing numerical values by filling with the mean\n",
    "    df[numerical_features] = df[numerical_features].fillna(df[numerical_features].mean())\n",
    "    numerical_matrix = scaler.fit_transform(df[numerical_features])\n",
    "\n",
    "    # 3. Combine features into a single global variable\n",
    "    combined_features = hstack([genre_matrix, numerical_matrix])\n",
    "\n",
    "    print(\"Recommender system initialized successfully.\")\n",
    "    is_ready = True\n",
    "\n",
    "except FileNotFoundError:\n",
    "    print(\"Error: 'songs_2000_2020_50k.csv' not found.\")\n",
    "    is_ready = False\n",
    "except KeyError as e:\n",
    "    print(f\"Error: Missing expected column in CSV: {e}\")\n",
    "    is_ready = False"
   ]
  },
  {
   "cell_type": "code",
   "execution_count": 3,
   "id": "22a27746",
   "metadata": {},
   "outputs": [],
   "source": [
    "\n",
    "# --- Recommendation Function (Updated Logic) ---\n",
    "def get_recommendations(song_title, num_recs=5):\n",
    "    \"\"\"\n",
    "    Get music recommendations by calculating similarity on-the-fly.\n",
    "    \"\"\"\n",
    "    if not is_ready:\n",
    "        return {\"error\": \"Recommender system is not ready. Check server logs.\"}\n",
    "    \n",
    "    try:\n",
    "        # Find the index of the song\n",
    "        song_idx = df[df['Title'].str.lower() == song_title.lower()].index[0]\n",
    "        \n",
    "        # Get the feature vector for the input song\n",
    "        song_vector = combined_features[song_idx]\n",
    "\n",
    "        # *** THE KEY CHANGE IS HERE ***\n",
    "        # Calculate similarity between THIS song and ALL other songs\n",
    "        sim_scores = cosine_similarity(song_vector, combined_features)\n",
    "        \n",
    "        # sim_scores is a 2D array, so we flatten it to a 1D list\n",
    "        sim_scores = list(enumerate(sim_scores[0]))\n",
    "        \n",
    "        # Sort the songs based on similarity\n",
    "        sim_scores = sorted(sim_scores, key=lambda x: x[1], reverse=True)\n",
    "        \n",
    "        # Get the top N recommendations (excluding the song itself)\n",
    "        sim_scores = sim_scores[1:num_recs + 1]\n",
    "        \n",
    "        # Get song indices\n",
    "        song_indices = [i[0] for i in sim_scores]\n",
    "        \n",
    "        # Return the recommended songs\n",
    "        recommendations = df[['Title', 'Artist']].iloc[song_indices]\n",
    "        return recommendations.to_dict(orient='records')\n",
    "\n",
    "    except (IndexError, KeyError):\n",
    "        return {\"error\": \"Song not found in the dataset. Please try another.\"}"
   ]
  },
  {
   "cell_type": "code",
   "execution_count": 5,
   "id": "78abbf42",
   "metadata": {},
   "outputs": [
    {
     "data": {
      "text/plain": [
       "<flask_cors.extension.CORS at 0x225c1eb6390>"
      ]
     },
     "execution_count": 5,
     "metadata": {},
     "output_type": "execute_result"
    }
   ],
   "source": [
    "# Initialize the Flask app\n",
    "app = Flask(__name__)\n",
    "# Enable Cross-Origin Resource Sharing (CORS) to allow frontend requests\n",
    "CORS(app)"
   ]
  },
  {
   "cell_type": "code",
   "execution_count": 6,
   "id": "b72c6268",
   "metadata": {},
   "outputs": [],
   "source": [
    "\n",
    "\n",
    "@app.route('/recommend', methods=['GET'])\n",
    "def recommend():\n",
    "    # Get the song title from the query parameters\n",
    "    song_title = request.args.get('title')\n",
    "    \n",
    "    if not song_title:\n",
    "        return jsonify({\"error\": \"A 'title' parameter is required.\"}), 400\n",
    "        \n",
    "    # Get recommendations using our function\n",
    "    recommendations = get_recommendations(song_title)\n",
    "    \n",
    "    return jsonify(recommendations)\n"
   ]
  },
  {
   "cell_type": "code",
   "execution_count": 9,
   "id": "870f3266",
   "metadata": {},
   "outputs": [
    {
     "name": "stdout",
     "output_type": "stream",
     "text": [
      " * Serving Flask app '__main__'\n",
      " * Debug mode: on\n"
     ]
    },
    {
     "name": "stderr",
     "output_type": "stream",
     "text": [
      "WARNING: This is a development server. Do not use it in a production deployment. Use a production WSGI server instead.\n",
      " * Running on http://127.0.0.1:5000\n",
      "Press CTRL+C to quit\n",
      " * Restarting with watchdog (windowsapi)\n"
     ]
    },
    {
     "ename": "SystemExit",
     "evalue": "1",
     "output_type": "error",
     "traceback": [
      "An exception has occurred, use %tb to see the full traceback.\n",
      "\u001b[31mSystemExit\u001b[39m\u001b[31m:\u001b[39m 1\n"
     ]
    }
   ],
   "source": [
    "if __name__ == '__main__':\n",
    "    # Run the app on port 5000\n",
    "    app.run(debug=True, port=5000)\n",
    "#!/usr/bin/env python3\n"
   ]
  },
  {
   "cell_type": "code",
   "execution_count": null,
   "id": "dced11d0",
   "metadata": {},
   "outputs": [],
   "source": []
  }
 ],
 "metadata": {
  "kernelspec": {
   "display_name": "Python 3",
   "language": "python",
   "name": "python3"
  },
  "language_info": {
   "codemirror_mode": {
    "name": "ipython",
    "version": 3
   },
   "file_extension": ".py",
   "mimetype": "text/x-python",
   "name": "python",
   "nbconvert_exporter": "python",
   "pygments_lexer": "ipython3",
   "version": "3.11.0"
  }
 },
 "nbformat": 4,
 "nbformat_minor": 5
}
